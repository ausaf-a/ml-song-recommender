{
  "nbformat": 4,
  "nbformat_minor": 0,
  "metadata": {
    "colab": {
      "name": "ML_Song_Recommender.ipynb",
      "provenance": [],
      "collapsed_sections": [],
      "toc_visible": true,
      "include_colab_link": true
    },
    "kernelspec": {
      "name": "python3",
      "display_name": "Python 3"
    },
    "language_info": {
      "name": "python"
    }
  },
  "cells": [
    {
      "cell_type": "markdown",
      "metadata": {
        "id": "view-in-github",
        "colab_type": "text"
      },
      "source": [
        "<a href=\"https://colab.research.google.com/github/ausaf-a/ml-song-recommender/blob/gh-pages/ML_Song_Recommender.ipynb\" target=\"_parent\"><img src=\"https://colab.research.google.com/assets/colab-badge.svg\" alt=\"Open In Colab\"/></a>"
      ]
    },
    {
      "cell_type": "markdown",
      "source": [
        "# Introduction/Background\n",
        "Music has always been a staple of our lives. It can convey emotions and bring back memories for us all. Having such a prominent effect on our lives, we can see why massive companies like Spotify, Youtube, and Soundcloud implement innovative technologies to compete for the best music streaming service for the consumer. One feature that’s used by all of these companies and more is a recommendation system. A service can continue providing enjoyable content to a user that’s catered to their likings by using such a system, which is something we wanted to explore. This helps us tie in powerful machine learning algorithms with something we love and enjoy on a daily basis."
      ],
      "metadata": {
        "id": "_gVbLXmjhpwg"
      }
    },
    {
      "cell_type": "markdown",
      "source": [
        "# Problem definition\n",
        "The problem is that Spotify is not able to recommend new songs that sound “similar” to the current song being listened to. It seems that spotify suggests songs based on other users listening history rather than inference. Our goal is to provide music recommendations based on how closely the quantifiable features of a song match to others, with the idea that these features contain the information that makes two songs sound similar to the human ear.  "
      ],
      "metadata": {
        "id": "OCmc-Uokh2z-"
      }
    },
    {
      "cell_type": "markdown",
      "source": [
        "# Data Collection\n",
        "By reaching out to fellow georgia tech students, we were able to acquire around 6 playlists, totaling to over 250 songs. We utilized spotify’s API in order to extract the unique songs out of these playlists, and then perform feature extraction on these songs. We are able to construct an 11-dimensional feature vector out of the data returned from the api, consisting of the following numeric features: \n",
        "\n",
        "danceability, energy, key, loudness, mode, speechiness, acousticness, instrumentalness\tliveness, valence, tempo"
      ],
      "metadata": {
        "id": "fDz4O0UVh4n0"
      }
    },
    {
      "cell_type": "markdown",
      "source": [
        "# Methods\n",
        "We take the 11-dimensional feature vectors that compose the dataset, and extract two of the principal components after applying PCA. This projects the data points onto two of the axes that have the largest amount of variance. We then send this reduced data into the K-means algorithm in order to return clusters. We run K means several times with different cluster sizes to try and find the optimal cluster size using the elbow method.  "
      ],
      "metadata": {
        "id": "3Uox0PVyh6H_"
      }
    },
    {
      "cell_type": "markdown",
      "source": [
        "# Results and Discussion"
      ],
      "metadata": {
        "id": "Cza2QWgjh8XY"
      }
    },
    {
      "cell_type": "markdown",
      "source": [
        "# Dataset \n",
        "Spotify playlists containing 261 songs"
      ],
      "metadata": {
        "id": "MGCaBgJGKkdN"
      }
    },
    {
      "cell_type": "code",
      "source": [
        "playlists = \"\"\"\n",
        "https://open.spotify.com/playlist/0Bie8YaaPo7t7pwwihn2EB?si=31f790531b85444c\n",
        "https://open.spotify.com/playlist/3kHSFQiGtPML3w4AE5OJYv?si=gsOxTQIGQL-zimB4FNbk6A\n",
        "https://open.spotify.com/playlist/1zXwPKbXqLEbb5kBo2oiK5?si=Fswjd5A-TAyptYq9frJcXg\n",
        "https://open.spotify.com/playlist/0inOzNw7liwlduc94yqTV0?si=H70V7XtyTru8yUygxM2PVQ\n",
        "\"\"\".strip()"
      ],
      "metadata": {
        "id": "7bFaj9VWppR_"
      },
      "execution_count": 168,
      "outputs": []
    },
    {
      "cell_type": "markdown",
      "source": [
        "# Pipeline"
      ],
      "metadata": {
        "id": "i-W-cMw1LD1Y"
      }
    },
    {
      "cell_type": "markdown",
      "source": [
        "## Stage 1.1: playlists -> songs -> features -> principal components\n",
        "\n",
        "- Spotify API to pull song data from playlists \n",
        "- Spotify API to pull feature data for each song \n",
        "\n",
        "output: \n",
        "\n",
        "np.array with shape (NumSongs, FeatureSize)"
      ],
      "metadata": {
        "id": "A6OMsq44LOaJ"
      }
    },
    {
      "cell_type": "code",
      "source": [
        "import itertools\n",
        "import pandas as pd\n",
        "import spotipy\n",
        "from spotipy.oauth2 import SpotifyClientCredentials\n",
        "\n",
        "api = spotipy.Spotify(client_credentials_manager=SpotifyClientCredentials('f2883f3df24c43bc9126b3248f2c7ff2', '7b66ce34cd7346afaef61c3f4a12c226'), )\n",
        "\n",
        "# playlist urls -> playlist_ids\n",
        "playlist_ids = [token.split('?si=')[0] for token in [ p.split('/playlist/')[1] for p in playlists.split('\\n')]]\n",
        "# print(playlist_ids)\n",
        "\n",
        "# playlist_tracks -> track_ids \n",
        "playlist_tracks = list(itertools.chain(*[api.playlist_tracks(pid)['items'] for pid in playlist_ids]))\n",
        "tids = set()\n",
        "\n",
        "# track_ids -> features \n",
        "track_ids = set([track['track']['uri'] for track in playlist_tracks])\n",
        "print(f'{len(track_ids)} unique track ids')\n",
        "track_ids = list(track_ids)\n",
        "\n",
        "\n",
        "def get_api_features(track_ids):\n",
        "    \"\"\"\n",
        "     Spotify API only allows us to retrieve features for songs in batches of 100. \n",
        "     To bypass this we break up the tracks into multiple batches of requests and merge them together. \n",
        "    \"\"\"\n",
        "    features = []\n",
        "    batchLimit = 100 \n",
        "    current = 0 \n",
        "    while current < len(track_ids):\n",
        "      featureBatch = api.audio_features(track_ids[current:current+batchLimit]) \n",
        "      features.extend(featureBatch)\n",
        "      current += batchLimit\n",
        "\n",
        "    return features\n",
        "\n",
        "api_features = get_api_features(track_ids)\n",
        "df = pd.DataFrame().from_dict(api_features)\n",
        "\n",
        "# 11 dim feature vector\n",
        "desired_features = ['danceability', 'energy', 'key', 'loudness', 'mode', 'speechiness', 'acousticness', 'instrumentalness', 'liveness', 'valence', 'tempo']\n",
        "# df = df[desired_features]\n",
        "# df = (df-df.mean())/df.std()\n",
        "df"
      ],
      "metadata": {
        "id": "XD31Q-g8NuSX",
        "colab": {
          "base_uri": "https://localhost:8080/",
          "height": 679
        },
        "outputId": "6d794e0f-fdb8-46ff-fc28-a2a75e715fc8"
      },
      "execution_count": 169,
      "outputs": [
        {
          "output_type": "stream",
          "name": "stdout",
          "text": [
            "261 unique track ids\n"
          ]
        },
        {
          "output_type": "execute_result",
          "data": {
            "text/plain": [
              "     danceability  energy  key  loudness  mode  speechiness  acousticness  \\\n",
              "0           0.698   0.729    2    -3.670     1       0.1010        0.0605   \n",
              "1           0.706   0.723    5    -7.920     1       0.3910        0.1150   \n",
              "2           0.750   0.789    2    -4.578     1       0.1080        0.2530   \n",
              "3           0.760   0.886    9    -5.356     0       0.0258        0.0219   \n",
              "4           0.463   0.566    8    -6.195     1       0.1450        0.1960   \n",
              "..            ...     ...  ...       ...   ...          ...           ...   \n",
              "256         0.894   0.161    4   -14.311     1       0.0880        0.7050   \n",
              "257         0.717   0.653    1    -5.634     1       0.0658        0.2290   \n",
              "258         0.573   0.739    0    -5.740     1       0.1290        0.0285   \n",
              "259         0.409   0.594    1    -9.725     1       0.0310        0.0320   \n",
              "260         0.865   0.576    4   -10.515     0       0.1130        0.3060   \n",
              "\n",
              "     instrumentalness  liveness  valence    tempo            type  \\\n",
              "0            0.000000    0.0918    0.306  140.083  audio_features   \n",
              "1            0.000043    0.2000    0.745  140.164  audio_features   \n",
              "2            0.000000    0.1290    0.673  147.957  audio_features   \n",
              "3            0.000007    0.6230    0.780  123.002  audio_features   \n",
              "4            0.000000    0.2840    0.219   93.921  audio_features   \n",
              "..                ...       ...      ...      ...             ...   \n",
              "256          0.003300    0.3120    0.824  104.968  audio_features   \n",
              "257          0.000000    0.1010    0.412  106.966  audio_features   \n",
              "258          0.000000    0.1110    0.451   97.085  audio_features   \n",
              "259          0.039100    0.0904    0.212  110.187  audio_features   \n",
              "260          0.036200    0.3770    0.609  119.974  audio_features   \n",
              "\n",
              "                         id                                   uri  \\\n",
              "0    2JHHa7MKQahUQi5d4At1GZ  spotify:track:2JHHa7MKQahUQi5d4At1GZ   \n",
              "1    08mHFRDUhiIybq23kKQuxS  spotify:track:08mHFRDUhiIybq23kKQuxS   \n",
              "2    7LGWmZaoS7jZJ5tEi9EcDi  spotify:track:7LGWmZaoS7jZJ5tEi9EcDi   \n",
              "3    0uVyZywUNOp6S0dU5r8TS8  spotify:track:0uVyZywUNOp6S0dU5r8TS8   \n",
              "4    6z1kLsntE7FuzKZHZWrXYN  spotify:track:6z1kLsntE7FuzKZHZWrXYN   \n",
              "..                      ...                                   ...   \n",
              "256  4kYPnVuU1jFMmGhOstcKDN  spotify:track:4kYPnVuU1jFMmGhOstcKDN   \n",
              "257  3e9HZxeyfWwjeyPAMmWSSQ  spotify:track:3e9HZxeyfWwjeyPAMmWSSQ   \n",
              "258  0prNGof3XqfTvNDxHonvdK  spotify:track:0prNGof3XqfTvNDxHonvdK   \n",
              "259  2d3QlXE6FXFDeodiS66yjM  spotify:track:2d3QlXE6FXFDeodiS66yjM   \n",
              "260  0Dylgc29zZwO3YRC1VrMdo  spotify:track:0Dylgc29zZwO3YRC1VrMdo   \n",
              "\n",
              "                                            track_href  \\\n",
              "0    https://api.spotify.com/v1/tracks/2JHHa7MKQahU...   \n",
              "1    https://api.spotify.com/v1/tracks/08mHFRDUhiIy...   \n",
              "2    https://api.spotify.com/v1/tracks/7LGWmZaoS7jZ...   \n",
              "3    https://api.spotify.com/v1/tracks/0uVyZywUNOp6...   \n",
              "4    https://api.spotify.com/v1/tracks/6z1kLsntE7Fu...   \n",
              "..                                                 ...   \n",
              "256  https://api.spotify.com/v1/tracks/4kYPnVuU1jFM...   \n",
              "257  https://api.spotify.com/v1/tracks/3e9HZxeyfWwj...   \n",
              "258  https://api.spotify.com/v1/tracks/0prNGof3XqfT...   \n",
              "259  https://api.spotify.com/v1/tracks/2d3QlXE6FXFD...   \n",
              "260  https://api.spotify.com/v1/tracks/0Dylgc29zZwO...   \n",
              "\n",
              "                                          analysis_url  duration_ms  \\\n",
              "0    https://api.spotify.com/v1/audio-analysis/2JHH...       202867   \n",
              "1    https://api.spotify.com/v1/audio-analysis/08mH...        61714   \n",
              "2    https://api.spotify.com/v1/audio-analysis/7LGW...       157133   \n",
              "3    https://api.spotify.com/v1/audio-analysis/0uVy...       189399   \n",
              "4    https://api.spotify.com/v1/audio-analysis/6z1k...       255729   \n",
              "..                                                 ...          ...   \n",
              "256  https://api.spotify.com/v1/audio-analysis/4kYP...       222307   \n",
              "257  https://api.spotify.com/v1/audio-analysis/3e9H...       207320   \n",
              "258  https://api.spotify.com/v1/audio-analysis/0prN...       230227   \n",
              "259  https://api.spotify.com/v1/audio-analysis/2d3Q...       209455   \n",
              "260  https://api.spotify.com/v1/audio-analysis/0Dyl...       247497   \n",
              "\n",
              "     time_signature  \n",
              "0                 4  \n",
              "1                 4  \n",
              "2                 4  \n",
              "3                 4  \n",
              "4                 4  \n",
              "..              ...  \n",
              "256               4  \n",
              "257               4  \n",
              "258               4  \n",
              "259               4  \n",
              "260               4  \n",
              "\n",
              "[261 rows x 18 columns]"
            ],
            "text/html": [
              "\n",
              "  <div id=\"df-e17c870d-5515-4190-89ea-717f00bc15da\">\n",
              "    <div class=\"colab-df-container\">\n",
              "      <div>\n",
              "<style scoped>\n",
              "    .dataframe tbody tr th:only-of-type {\n",
              "        vertical-align: middle;\n",
              "    }\n",
              "\n",
              "    .dataframe tbody tr th {\n",
              "        vertical-align: top;\n",
              "    }\n",
              "\n",
              "    .dataframe thead th {\n",
              "        text-align: right;\n",
              "    }\n",
              "</style>\n",
              "<table border=\"1\" class=\"dataframe\">\n",
              "  <thead>\n",
              "    <tr style=\"text-align: right;\">\n",
              "      <th></th>\n",
              "      <th>danceability</th>\n",
              "      <th>energy</th>\n",
              "      <th>key</th>\n",
              "      <th>loudness</th>\n",
              "      <th>mode</th>\n",
              "      <th>speechiness</th>\n",
              "      <th>acousticness</th>\n",
              "      <th>instrumentalness</th>\n",
              "      <th>liveness</th>\n",
              "      <th>valence</th>\n",
              "      <th>tempo</th>\n",
              "      <th>type</th>\n",
              "      <th>id</th>\n",
              "      <th>uri</th>\n",
              "      <th>track_href</th>\n",
              "      <th>analysis_url</th>\n",
              "      <th>duration_ms</th>\n",
              "      <th>time_signature</th>\n",
              "    </tr>\n",
              "  </thead>\n",
              "  <tbody>\n",
              "    <tr>\n",
              "      <th>0</th>\n",
              "      <td>0.698</td>\n",
              "      <td>0.729</td>\n",
              "      <td>2</td>\n",
              "      <td>-3.670</td>\n",
              "      <td>1</td>\n",
              "      <td>0.1010</td>\n",
              "      <td>0.0605</td>\n",
              "      <td>0.000000</td>\n",
              "      <td>0.0918</td>\n",
              "      <td>0.306</td>\n",
              "      <td>140.083</td>\n",
              "      <td>audio_features</td>\n",
              "      <td>2JHHa7MKQahUQi5d4At1GZ</td>\n",
              "      <td>spotify:track:2JHHa7MKQahUQi5d4At1GZ</td>\n",
              "      <td>https://api.spotify.com/v1/tracks/2JHHa7MKQahU...</td>\n",
              "      <td>https://api.spotify.com/v1/audio-analysis/2JHH...</td>\n",
              "      <td>202867</td>\n",
              "      <td>4</td>\n",
              "    </tr>\n",
              "    <tr>\n",
              "      <th>1</th>\n",
              "      <td>0.706</td>\n",
              "      <td>0.723</td>\n",
              "      <td>5</td>\n",
              "      <td>-7.920</td>\n",
              "      <td>1</td>\n",
              "      <td>0.3910</td>\n",
              "      <td>0.1150</td>\n",
              "      <td>0.000043</td>\n",
              "      <td>0.2000</td>\n",
              "      <td>0.745</td>\n",
              "      <td>140.164</td>\n",
              "      <td>audio_features</td>\n",
              "      <td>08mHFRDUhiIybq23kKQuxS</td>\n",
              "      <td>spotify:track:08mHFRDUhiIybq23kKQuxS</td>\n",
              "      <td>https://api.spotify.com/v1/tracks/08mHFRDUhiIy...</td>\n",
              "      <td>https://api.spotify.com/v1/audio-analysis/08mH...</td>\n",
              "      <td>61714</td>\n",
              "      <td>4</td>\n",
              "    </tr>\n",
              "    <tr>\n",
              "      <th>2</th>\n",
              "      <td>0.750</td>\n",
              "      <td>0.789</td>\n",
              "      <td>2</td>\n",
              "      <td>-4.578</td>\n",
              "      <td>1</td>\n",
              "      <td>0.1080</td>\n",
              "      <td>0.2530</td>\n",
              "      <td>0.000000</td>\n",
              "      <td>0.1290</td>\n",
              "      <td>0.673</td>\n",
              "      <td>147.957</td>\n",
              "      <td>audio_features</td>\n",
              "      <td>7LGWmZaoS7jZJ5tEi9EcDi</td>\n",
              "      <td>spotify:track:7LGWmZaoS7jZJ5tEi9EcDi</td>\n",
              "      <td>https://api.spotify.com/v1/tracks/7LGWmZaoS7jZ...</td>\n",
              "      <td>https://api.spotify.com/v1/audio-analysis/7LGW...</td>\n",
              "      <td>157133</td>\n",
              "      <td>4</td>\n",
              "    </tr>\n",
              "    <tr>\n",
              "      <th>3</th>\n",
              "      <td>0.760</td>\n",
              "      <td>0.886</td>\n",
              "      <td>9</td>\n",
              "      <td>-5.356</td>\n",
              "      <td>0</td>\n",
              "      <td>0.0258</td>\n",
              "      <td>0.0219</td>\n",
              "      <td>0.000007</td>\n",
              "      <td>0.6230</td>\n",
              "      <td>0.780</td>\n",
              "      <td>123.002</td>\n",
              "      <td>audio_features</td>\n",
              "      <td>0uVyZywUNOp6S0dU5r8TS8</td>\n",
              "      <td>spotify:track:0uVyZywUNOp6S0dU5r8TS8</td>\n",
              "      <td>https://api.spotify.com/v1/tracks/0uVyZywUNOp6...</td>\n",
              "      <td>https://api.spotify.com/v1/audio-analysis/0uVy...</td>\n",
              "      <td>189399</td>\n",
              "      <td>4</td>\n",
              "    </tr>\n",
              "    <tr>\n",
              "      <th>4</th>\n",
              "      <td>0.463</td>\n",
              "      <td>0.566</td>\n",
              "      <td>8</td>\n",
              "      <td>-6.195</td>\n",
              "      <td>1</td>\n",
              "      <td>0.1450</td>\n",
              "      <td>0.1960</td>\n",
              "      <td>0.000000</td>\n",
              "      <td>0.2840</td>\n",
              "      <td>0.219</td>\n",
              "      <td>93.921</td>\n",
              "      <td>audio_features</td>\n",
              "      <td>6z1kLsntE7FuzKZHZWrXYN</td>\n",
              "      <td>spotify:track:6z1kLsntE7FuzKZHZWrXYN</td>\n",
              "      <td>https://api.spotify.com/v1/tracks/6z1kLsntE7Fu...</td>\n",
              "      <td>https://api.spotify.com/v1/audio-analysis/6z1k...</td>\n",
              "      <td>255729</td>\n",
              "      <td>4</td>\n",
              "    </tr>\n",
              "    <tr>\n",
              "      <th>...</th>\n",
              "      <td>...</td>\n",
              "      <td>...</td>\n",
              "      <td>...</td>\n",
              "      <td>...</td>\n",
              "      <td>...</td>\n",
              "      <td>...</td>\n",
              "      <td>...</td>\n",
              "      <td>...</td>\n",
              "      <td>...</td>\n",
              "      <td>...</td>\n",
              "      <td>...</td>\n",
              "      <td>...</td>\n",
              "      <td>...</td>\n",
              "      <td>...</td>\n",
              "      <td>...</td>\n",
              "      <td>...</td>\n",
              "      <td>...</td>\n",
              "      <td>...</td>\n",
              "    </tr>\n",
              "    <tr>\n",
              "      <th>256</th>\n",
              "      <td>0.894</td>\n",
              "      <td>0.161</td>\n",
              "      <td>4</td>\n",
              "      <td>-14.311</td>\n",
              "      <td>1</td>\n",
              "      <td>0.0880</td>\n",
              "      <td>0.7050</td>\n",
              "      <td>0.003300</td>\n",
              "      <td>0.3120</td>\n",
              "      <td>0.824</td>\n",
              "      <td>104.968</td>\n",
              "      <td>audio_features</td>\n",
              "      <td>4kYPnVuU1jFMmGhOstcKDN</td>\n",
              "      <td>spotify:track:4kYPnVuU1jFMmGhOstcKDN</td>\n",
              "      <td>https://api.spotify.com/v1/tracks/4kYPnVuU1jFM...</td>\n",
              "      <td>https://api.spotify.com/v1/audio-analysis/4kYP...</td>\n",
              "      <td>222307</td>\n",
              "      <td>4</td>\n",
              "    </tr>\n",
              "    <tr>\n",
              "      <th>257</th>\n",
              "      <td>0.717</td>\n",
              "      <td>0.653</td>\n",
              "      <td>1</td>\n",
              "      <td>-5.634</td>\n",
              "      <td>1</td>\n",
              "      <td>0.0658</td>\n",
              "      <td>0.2290</td>\n",
              "      <td>0.000000</td>\n",
              "      <td>0.1010</td>\n",
              "      <td>0.412</td>\n",
              "      <td>106.966</td>\n",
              "      <td>audio_features</td>\n",
              "      <td>3e9HZxeyfWwjeyPAMmWSSQ</td>\n",
              "      <td>spotify:track:3e9HZxeyfWwjeyPAMmWSSQ</td>\n",
              "      <td>https://api.spotify.com/v1/tracks/3e9HZxeyfWwj...</td>\n",
              "      <td>https://api.spotify.com/v1/audio-analysis/3e9H...</td>\n",
              "      <td>207320</td>\n",
              "      <td>4</td>\n",
              "    </tr>\n",
              "    <tr>\n",
              "      <th>258</th>\n",
              "      <td>0.573</td>\n",
              "      <td>0.739</td>\n",
              "      <td>0</td>\n",
              "      <td>-5.740</td>\n",
              "      <td>1</td>\n",
              "      <td>0.1290</td>\n",
              "      <td>0.0285</td>\n",
              "      <td>0.000000</td>\n",
              "      <td>0.1110</td>\n",
              "      <td>0.451</td>\n",
              "      <td>97.085</td>\n",
              "      <td>audio_features</td>\n",
              "      <td>0prNGof3XqfTvNDxHonvdK</td>\n",
              "      <td>spotify:track:0prNGof3XqfTvNDxHonvdK</td>\n",
              "      <td>https://api.spotify.com/v1/tracks/0prNGof3XqfT...</td>\n",
              "      <td>https://api.spotify.com/v1/audio-analysis/0prN...</td>\n",
              "      <td>230227</td>\n",
              "      <td>4</td>\n",
              "    </tr>\n",
              "    <tr>\n",
              "      <th>259</th>\n",
              "      <td>0.409</td>\n",
              "      <td>0.594</td>\n",
              "      <td>1</td>\n",
              "      <td>-9.725</td>\n",
              "      <td>1</td>\n",
              "      <td>0.0310</td>\n",
              "      <td>0.0320</td>\n",
              "      <td>0.039100</td>\n",
              "      <td>0.0904</td>\n",
              "      <td>0.212</td>\n",
              "      <td>110.187</td>\n",
              "      <td>audio_features</td>\n",
              "      <td>2d3QlXE6FXFDeodiS66yjM</td>\n",
              "      <td>spotify:track:2d3QlXE6FXFDeodiS66yjM</td>\n",
              "      <td>https://api.spotify.com/v1/tracks/2d3QlXE6FXFD...</td>\n",
              "      <td>https://api.spotify.com/v1/audio-analysis/2d3Q...</td>\n",
              "      <td>209455</td>\n",
              "      <td>4</td>\n",
              "    </tr>\n",
              "    <tr>\n",
              "      <th>260</th>\n",
              "      <td>0.865</td>\n",
              "      <td>0.576</td>\n",
              "      <td>4</td>\n",
              "      <td>-10.515</td>\n",
              "      <td>0</td>\n",
              "      <td>0.1130</td>\n",
              "      <td>0.3060</td>\n",
              "      <td>0.036200</td>\n",
              "      <td>0.3770</td>\n",
              "      <td>0.609</td>\n",
              "      <td>119.974</td>\n",
              "      <td>audio_features</td>\n",
              "      <td>0Dylgc29zZwO3YRC1VrMdo</td>\n",
              "      <td>spotify:track:0Dylgc29zZwO3YRC1VrMdo</td>\n",
              "      <td>https://api.spotify.com/v1/tracks/0Dylgc29zZwO...</td>\n",
              "      <td>https://api.spotify.com/v1/audio-analysis/0Dyl...</td>\n",
              "      <td>247497</td>\n",
              "      <td>4</td>\n",
              "    </tr>\n",
              "  </tbody>\n",
              "</table>\n",
              "<p>261 rows × 18 columns</p>\n",
              "</div>\n",
              "      <button class=\"colab-df-convert\" onclick=\"convertToInteractive('df-e17c870d-5515-4190-89ea-717f00bc15da')\"\n",
              "              title=\"Convert this dataframe to an interactive table.\"\n",
              "              style=\"display:none;\">\n",
              "        \n",
              "  <svg xmlns=\"http://www.w3.org/2000/svg\" height=\"24px\"viewBox=\"0 0 24 24\"\n",
              "       width=\"24px\">\n",
              "    <path d=\"M0 0h24v24H0V0z\" fill=\"none\"/>\n",
              "    <path d=\"M18.56 5.44l.94 2.06.94-2.06 2.06-.94-2.06-.94-.94-2.06-.94 2.06-2.06.94zm-11 1L8.5 8.5l.94-2.06 2.06-.94-2.06-.94L8.5 2.5l-.94 2.06-2.06.94zm10 10l.94 2.06.94-2.06 2.06-.94-2.06-.94-.94-2.06-.94 2.06-2.06.94z\"/><path d=\"M17.41 7.96l-1.37-1.37c-.4-.4-.92-.59-1.43-.59-.52 0-1.04.2-1.43.59L10.3 9.45l-7.72 7.72c-.78.78-.78 2.05 0 2.83L4 21.41c.39.39.9.59 1.41.59.51 0 1.02-.2 1.41-.59l7.78-7.78 2.81-2.81c.8-.78.8-2.07 0-2.86zM5.41 20L4 18.59l7.72-7.72 1.47 1.35L5.41 20z\"/>\n",
              "  </svg>\n",
              "      </button>\n",
              "      \n",
              "  <style>\n",
              "    .colab-df-container {\n",
              "      display:flex;\n",
              "      flex-wrap:wrap;\n",
              "      gap: 12px;\n",
              "    }\n",
              "\n",
              "    .colab-df-convert {\n",
              "      background-color: #E8F0FE;\n",
              "      border: none;\n",
              "      border-radius: 50%;\n",
              "      cursor: pointer;\n",
              "      display: none;\n",
              "      fill: #1967D2;\n",
              "      height: 32px;\n",
              "      padding: 0 0 0 0;\n",
              "      width: 32px;\n",
              "    }\n",
              "\n",
              "    .colab-df-convert:hover {\n",
              "      background-color: #E2EBFA;\n",
              "      box-shadow: 0px 1px 2px rgba(60, 64, 67, 0.3), 0px 1px 3px 1px rgba(60, 64, 67, 0.15);\n",
              "      fill: #174EA6;\n",
              "    }\n",
              "\n",
              "    [theme=dark] .colab-df-convert {\n",
              "      background-color: #3B4455;\n",
              "      fill: #D2E3FC;\n",
              "    }\n",
              "\n",
              "    [theme=dark] .colab-df-convert:hover {\n",
              "      background-color: #434B5C;\n",
              "      box-shadow: 0px 1px 3px 1px rgba(0, 0, 0, 0.15);\n",
              "      filter: drop-shadow(0px 1px 2px rgba(0, 0, 0, 0.3));\n",
              "      fill: #FFFFFF;\n",
              "    }\n",
              "  </style>\n",
              "\n",
              "      <script>\n",
              "        const buttonEl =\n",
              "          document.querySelector('#df-e17c870d-5515-4190-89ea-717f00bc15da button.colab-df-convert');\n",
              "        buttonEl.style.display =\n",
              "          google.colab.kernel.accessAllowed ? 'block' : 'none';\n",
              "\n",
              "        async function convertToInteractive(key) {\n",
              "          const element = document.querySelector('#df-e17c870d-5515-4190-89ea-717f00bc15da');\n",
              "          const dataTable =\n",
              "            await google.colab.kernel.invokeFunction('convertToInteractive',\n",
              "                                                     [key], {});\n",
              "          if (!dataTable) return;\n",
              "\n",
              "          const docLinkHtml = 'Like what you see? Visit the ' +\n",
              "            '<a target=\"_blank\" href=https://colab.research.google.com/notebooks/data_table.ipynb>data table notebook</a>'\n",
              "            + ' to learn more about interactive tables.';\n",
              "          element.innerHTML = '';\n",
              "          dataTable['output_type'] = 'display_data';\n",
              "          await google.colab.output.renderOutput(dataTable, element);\n",
              "          const docLink = document.createElement('div');\n",
              "          docLink.innerHTML = docLinkHtml;\n",
              "          element.appendChild(docLink);\n",
              "        }\n",
              "      </script>\n",
              "    </div>\n",
              "  </div>\n",
              "  "
            ]
          },
          "metadata": {},
          "execution_count": 169
        }
      ]
    },
    {
      "cell_type": "markdown",
      "source": [
        "## Stage 1.2: Raw Dataset -> Normalized DataFrame -> Principal Components"
      ],
      "metadata": {
        "id": "jX-gO-s4Yaz-"
      }
    },
    {
      "cell_type": "code",
      "source": [
        "from sklearn.decomposition import PCA\n",
        "pca = PCA(n_components=2)\n",
        "principalComponents = pca.fit_transform(df)\n",
        "pdf = pd.DataFrame(data=principalComponents, columns=['pc1', 'pc2'])\n",
        "pdf.plot.scatter(x='pc1',y='pc2', c='Green')\n",
        "\n",
        "dataset = pdf.to_numpy()\n",
        "print(dataset[:3])"
      ],
      "metadata": {
        "colab": {
          "base_uri": "https://localhost:8080/",
          "height": 331
        },
        "id": "xEfNXy1cOhvs",
        "outputId": "21924515-de83-4705-ab7c-3e517dc13bd5"
      },
      "execution_count": null,
      "outputs": [
        {
          "output_type": "stream",
          "name": "stdout",
          "text": [
            "[[-0.67590467 -1.38071474]\n",
            " [-0.4653378   1.08616258]\n",
            " [-1.14603028 -0.28405203]]\n"
          ]
        },
        {
          "output_type": "display_data",
          "data": {
            "text/plain": [
              "<Figure size 432x288 with 1 Axes>"
            ],
            "image/png": "[encoded data removed]"
          },
          "metadata": {
            "needs_background": "light"
          }
        }
      ]
    },
    {
      "cell_type": "markdown",
      "source": [
        "## Stage 2: Dataset -> K-means -> Classes \n"
      ],
      "metadata": {
        "id": "qV1Or9vRLRB7"
      }
    },
    {
      "cell_type": "code",
      "source": [
        "\n"
      ],
      "metadata": {
        "id": "VygdX93dNJ1m"
      },
      "execution_count": null,
      "outputs": []
    },
    {
      "cell_type": "code",
      "source": [
        "from sklearn.cluster import KMeans\n",
        "import numpy as np\n",
        "import matplotlib.pyplot as plt \n",
        "\n",
        "distortions = []\n",
        "\n",
        "\n",
        "X = np.array([[1, 2], [1, 4], [1, 0],\n",
        "              [10, 2], [10, 4], [10, 0]])\n",
        "X = np.random.rand(100, 2)\n",
        "\n",
        "I = range(1, 10)\n",
        "for i in I:\n",
        "  kmeans = KMeans(n_clusters=i, random_state=0).fit(dataset)\n",
        "  distortions.append(kmeans.inertia_)\n",
        "\n",
        "plt.plot(I, distortions, 'bx-')\n",
        "\n",
        "kmeans.labels_\n",
        "\n",
        "kmeans.predict([[0, 0], [12, 3]])\n",
        "\n",
        "kmeans.cluster_centers_\n",
        "\n",
        "kmeans = KMeans(n_clusters=4, random_state=0).fit(dataset)\n",
        "\n",
        "plt.figure(figsize=(8, 6))\n",
        "plt.scatter(dataset[:,0], dataset[:,1], c=kmeans.labels_.astype(float))"
      ],
      "metadata": {
        "colab": {
          "base_uri": "https://localhost:8080/",
          "height": 639
        },
        "id": "tefuAgxijsZG",
        "outputId": "0a81a881-2a2c-4834-e328-054a72f40444"
      },
      "execution_count": null,
      "outputs": [
        {
          "output_type": "execute_result",
          "data": {
            "text/plain": [
              "<matplotlib.collections.PathCollection at 0x7fde3d547090>"
            ]
          },
          "metadata": {},
          "execution_count": 125
        },
        {
          "output_type": "display_data",
          "data": {
            "text/plain": [
              "<Figure size 432x288 with 1 Axes>"
            ],
            "image/png": "[encoded data removed]"
          },
          "metadata": {
            "needs_background": "light"
          }
        },
        {
          "output_type": "display_data",
          "data": {
            "text/plain": [
              "<Figure size 576x432 with 1 Axes>"
            ],
            "image/png": "[encoded data removed]"
          },
          "metadata": {
            "needs_background": "light"
          }
        }
      ]
    },
    {
      "cell_type": "code",
      "source": [
        "\n",
        "X = np.stack(\n",
        "    [\n",
        "    #  np.random.multivariate_normal(mean=[1,1], cov=[[1,0],[0, 1]], size=100),\n",
        "     np.random.multivariate_normal(mean=[0,0], cov=np.random.rand(2,2), size=100), \n",
        "     np.random.multivariate_normal(mean=[-1,.5], cov=[[1,0],[0, 1]], size=100) \n",
        "    ],\n",
        "    axis=1\n",
        "    )\n",
        "plt.scatter([x[0] for x in X], [x[1] for x in X])"
      ],
      "metadata": {
        "colab": {
          "base_uri": "https://localhost:8080/",
          "height": 317
        },
        "id": "Xi2aJoRBk-Be",
        "outputId": "7b4e34fc-82bb-414a-cbd6-828e217a6c2e"
      },
      "execution_count": null,
      "outputs": [
        {
          "output_type": "stream",
          "name": "stderr",
          "text": [
            "/usr/local/lib/python3.7/dist-packages/ipykernel_launcher.py:5: RuntimeWarning: covariance is not positive-semidefinite.\n",
            "  \"\"\"\n"
          ]
        },
        {
          "output_type": "execute_result",
          "data": {
            "text/plain": [
              "<matplotlib.collections.PathCollection at 0x7fb940b0d190>"
            ]
          },
          "metadata": {},
          "execution_count": 48
        },
        {
          "output_type": "display_data",
          "data": {
            "text/plain": [
              "<Figure size 432x288 with 1 Axes>"
            ],
            "image/png": "[encoded data removed]"
          },
          "metadata": {
            "needs_background": "light"
          }
        }
      ]
    },
    {
      "cell_type": "markdown",
      "source": [
        "## Stage 3: Application Endpoint\n",
        "- TODO: F(Song, Dataset, Labels) -> Cluster -> Random new song from cluster"
      ],
      "metadata": {
        "id": "2tBq1QTZLOI_"
      }
    },
    {
      "cell_type": "code",
      "source": [
        ""
      ],
      "metadata": {
        "id": "yNov6FyxKowu"
      },
      "execution_count": null,
      "outputs": []
    }
  ]
}